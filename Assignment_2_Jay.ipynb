{
 "cells": [
  {
   "cell_type": "code",
   "execution_count": 8,
   "metadata": {},
   "outputs": [
    {
     "name": "stdout",
     "output_type": "stream",
     "text": [
      "17\n"
     ]
    }
   ],
   "source": [
    "#1.1  Write a Python Program to implement your own myreduce() function which works exactly like Python's built-in function reduce() \n",
    "\n",
    "def myreduce(fun,lis):\n",
    "    j=lis[0]\n",
    "    for i in lis[1:]:\n",
    "        res=fun(j,i)\n",
    "        j=res\n",
    "    return res\n",
    "lis = [ 1 , 3, 5, 6, 2, ]\n",
    "print (myreduce(lambda a,b : a+b,lis))\n",
    "        "
   ]
  },
  {
   "cell_type": "code",
   "execution_count": 30,
   "metadata": {},
   "outputs": [
    {
     "name": "stdout",
     "output_type": "stream",
     "text": [
      "[0, 2, 8]\n"
     ]
    }
   ],
   "source": [
    "#1.2  Write a Python program to implement your own myfilter() function which works exactly like Python's built-in function filter() \n",
    "def myfilter(fun,lis):\n",
    "    #a=[]\n",
    "    for i in lis:\n",
    "        if fun(i):\n",
    "            yield i\n",
    "            #a.append(i)\n",
    "    #return a\n",
    "seq = [0, 1, 2, 3, 5, 8, 13] \n",
    "print(list(myfilter(lambda x: x%2==0,seq)))"
   ]
  },
  {
   "cell_type": "code",
   "execution_count": 62,
   "metadata": {},
   "outputs": [
    {
     "name": "stdout",
     "output_type": "stream",
     "text": [
      "['A', 'C', 'A', 'D', 'G', 'I', 'L', 'D']\n",
      "['x', 'xx', 'xxx', 'xxxx', 'y', 'yy', 'yyy', 'yyyy', 'z', 'zz', 'zzz', 'zzzz']\n",
      "['x', 'y', 'z', 'xx', 'yy', 'zz', 'xxx', 'yyy', 'zzz', 'xxxx', 'yyyy', 'zzzz']\n",
      "[[2], [3], [4], [3], [4], [5], [4], [5], [6]]\n",
      "[[2, 3, 4, 5], [3, 4, 5, 6], [4, 5, 6, 7], [5, 6, 7, 8]]\n",
      "[(1, 1), (2, 1), (3, 1), (1, 2), (2, 2), (3, 2), (1, 3), (2, 3), (3, 3)]\n"
     ]
    }
   ],
   "source": [
    "#2. Implement List comprehensions to produce the following lists. \n",
    "#   Write List comprehensions to produce the following Lists \n",
    "#   ['A', 'C', 'A', 'D', 'G', 'I', ’L’, ‘ D’] \n",
    "#   ['x', 'xx', 'xxx', 'xxxx', 'y', 'yy', 'yyy', 'yyyy', 'z', 'zz', 'zzz', 'zzzz'] \n",
    "#   ['x', 'y', 'z', 'xx', 'yy', 'zz', 'xx', 'yy', 'zz', 'xxxx', 'yyyy', 'zzzz'] \n",
    "#   [[2], [3], [4], [3], [4], [5], [4], [5], [6]] \n",
    "#   [[2, 3, 4, 5], [3, 4, 5, 6], [4, 5, 6, 7], [5, 6, 7, 8]] \n",
    "#   [(1, 1), (2, 1), (3, 1), (1, 2), (2, 2), (3, 2), (1, 3), (2, 3), (3, 3)] \n",
    "a=['A', 'C', 'A', 'D', 'G', 'I', 'L', 'D'] \n",
    "print([i for i in a])\n",
    "b=['x', 'xx', 'xxx', 'xxxx', 'y', 'yy', 'yyy', 'yyyy', 'z', 'zz', 'zzz', 'zzzz']\n",
    "print([i*j for i in ['x','y','z'] for j in range(1,5)])\n",
    "c=['x', 'y', 'z', 'xx', 'yy', 'zz', 'xx', 'yy', 'zz', 'xxxx', 'yyyy', 'zzzz']\n",
    "print([i*j for j in range(1,5) for i in ['x','y','z']])\n",
    "d=[[2], [3], [4], [3], [4], [5], [4], [5], [6]]\n",
    "print([[i+j] for i in range(1,4) for j in range(1,4)])\n",
    "print([[i,i+1,i+2,i+3] for i in range(2,6)])\n",
    "#print([[i+j for i in range(1,5)]for j in range(1,5)])\n",
    "print([(i,j) for j in range(1,4)for i in range(1,4)])\n",
    "\n",
    "\n",
    "    "
   ]
  },
  {
   "cell_type": "code",
   "execution_count": 74,
   "metadata": {},
   "outputs": [
    {
     "name": "stdout",
     "output_type": "stream",
     "text": [
      "jay\n"
     ]
    }
   ],
   "source": [
    "#3. Implement a function longestWord() that takes a list of words and returns the longest one. \n",
    "lis=['j','jay','ja',]\n",
    "def longestword(l):\n",
    "    temp=''\n",
    "    j=0\n",
    "    for i in l:\n",
    "        if len(i)>j:\n",
    "            temp=i\n",
    "            j=len(i)\n",
    "    return temp\n",
    "print(longestword(lis))\n"
   ]
  },
  {
   "cell_type": "code",
   "execution_count": 75,
   "metadata": {},
   "outputs": [
    {
     "name": "stdout",
     "output_type": "stream",
     "text": [
      "96.82458365518542\n"
     ]
    }
   ],
   "source": [
    "#1.1 Write a Python Program(with class concepts) to find the area of the triangle using the below formula. \n",
    "#   area = (s*(s-a)*(s-b)*(s-c)) ** 0.5 \n",
    "#   Function to take the length of the sides of triangle from user should be defined in the parent class and function to calculate the area should be defined in subclass\n",
    "\n",
    "class Parent:\n",
    "    def __init__(self,a,b,c):\n",
    "        self.a = a\n",
    "        self.b = b\n",
    "        self.c = c\n",
    "\n",
    "class Child(Parent):\n",
    "    def areaoftri(areatri):\n",
    "        s=(areatri.a + areatri.b + areatri.c)/2\n",
    "        area=(s*(s-areatri.a)*(s-areatri.b)*(s-areatri.c))**0.5\n",
    "        print(area)\n",
    "        \n",
    "        \n",
    "        \n",
    "p1 = Child(10,20,20)\n",
    "p1.areaoftri()\n"
   ]
  },
  {
   "cell_type": "code",
   "execution_count": 77,
   "metadata": {},
   "outputs": [
    {
     "name": "stdout",
     "output_type": "stream",
     "text": [
      "['dkjjj', 'fdfdf']\n"
     ]
    }
   ],
   "source": [
    "#1.2 Write a function filter_long_words() that takes a list of words and an integer n and returns the list of words that are longer than n. \n",
    "def filter_long_words(lis,n):\n",
    "    a=[]\n",
    "    for i in lis:\n",
    "        if len(i)>n:\n",
    "            a.append(i)\n",
    "    return a\n",
    "\n",
    "l=[\"dkjjj\",'fdfdf','ff']\n",
    "print(filter_long_words(l,2))"
   ]
  },
  {
   "cell_type": "code",
   "execution_count": 85,
   "metadata": {},
   "outputs": [
    {
     "name": "stdout",
     "output_type": "stream",
     "text": [
      "[5, 6, 3]\n"
     ]
    }
   ],
   "source": [
    "# 2.1 Write a Python program using function concept that maps  list of words into a list of integers representing the lengths of the corresponding words​. \n",
    "\n",
    "#def len_each_word(l):\n",
    "#    a = []\n",
    "#    for i in l:\n",
    "#        a.append(len(i))\n",
    "#    return a\n",
    "\n",
    "lis = ['adfdf','ffdfd0','dfd']\n",
    "#print(len_each_word(lis))\n",
    "\n",
    "lenghts=list(map(lambda x : len(x),lis))\n",
    "print(lenghts)"
   ]
  },
  {
   "cell_type": "code",
   "execution_count": 97,
   "metadata": {},
   "outputs": [
    {
     "name": "stdout",
     "output_type": "stream",
     "text": [
      "True\n"
     ]
    }
   ],
   "source": [
    "#2.2 Write a Python function which takes a character (i.e. a string of length 1) and returns True if it is a vowel, False otherwise.\n",
    "\n",
    "def find_vowel(v):\n",
    "    vowels = ['A','E','I','O','U']\n",
    "    if v.upper() in vowels:\n",
    "        return True\n",
    "    else:\n",
    "        return False\n",
    "    \n",
    "print(find_vowel('a'))\n"
   ]
  }
 ],
 "metadata": {
  "kernelspec": {
   "display_name": "Python 3",
   "language": "python",
   "name": "python3"
  },
  "language_info": {
   "codemirror_mode": {
    "name": "ipython",
    "version": 3
   },
   "file_extension": ".py",
   "mimetype": "text/x-python",
   "name": "python",
   "nbconvert_exporter": "python",
   "pygments_lexer": "ipython3",
   "version": "3.7.3"
  }
 },
 "nbformat": 4,
 "nbformat_minor": 2
}
